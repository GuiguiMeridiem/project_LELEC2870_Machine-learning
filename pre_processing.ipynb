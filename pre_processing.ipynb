{
  "cells": [
    {
      "cell_type": "markdown",
      "metadata": {},
      "source": [
        "## LELEC2870 - Machine Learning Project\n",
        "### Heart Failure Prediction in Smurf Society\n",
        "---\n",
        "\n",
        "# Data Preprocessing and Model Development\n",
        "\n",
        "---\n",
        "---"
      ]
    },
    {
      "cell_type": "markdown",
      "metadata": {},
      "source": [
        "## Part 1 : Dataset Preparation"
      ]
    },
    {
      "cell_type": "markdown",
      "metadata": {},
      "source": [
        "### Import necessary libraries"
      ]
    },
    {
      "cell_type": "code",
      "execution_count": null,
      "metadata": {},
      "outputs": [],
      "source": [
        "# Import necessary libraries\n",
        "import numpy as np\n",
        "import pandas as pd\n",
        "import seaborn as sns\n",
        "from matplotlib import pyplot as plt\n",
        "\n",
        "from sklearn.model_selection import train_test_split\n",
        "from sklearn.preprocessing import StandardScaler\n",
        "from sklearn.linear_model import LinearRegression\n",
        "from sklearn.neural_network import MLPRegressor\n",
        "from sklearn.tree import DecisionTreeRegressor\n",
        "from sklearn.ensemble import RandomForestRegressor\n",
        "from sklearn.feature_selection import mutual_info_regression as mutual_info\n",
        "from sklearn.feature_selection import SequentialFeatureSelector\n",
        "\n",
        "import random\n",
        "import scipy.io\n",
        "\n",
        "import warnings\n",
        "warnings.filterwarnings('ignore')\n"
      ]
    },
    {
      "cell_type": "markdown",
      "metadata": {},
      "source": [
        "### Load the data"
      ]
    },
    {
      "cell_type": "code",
      "execution_count": 10,
      "metadata": {},
      "outputs": [
        {
          "name": "stdout",
          "output_type": "stream",
          "text": [
            "<class 'pandas.core.frame.DataFrame'>\n",
            "RangeIndex: 1000 entries, 0 to 999\n",
            "Data columns (total 14 columns):\n",
            " #   Column             Non-Null Count  Dtype  \n",
            "---  ------             --------------  -----  \n",
            " 0   age                1000 non-null   int64  \n",
            " 1   blood pressure     1000 non-null   float64\n",
            " 2   calcium            1000 non-null   float64\n",
            " 3   cholesterol        1000 non-null   float64\n",
            " 4   hemoglobin         1000 non-null   float64\n",
            " 5   height             1000 non-null   float64\n",
            " 6   potassium          1000 non-null   float64\n",
            " 7   profession         1000 non-null   object \n",
            " 8   sarsaparilla       1000 non-null   object \n",
            " 9   smurfberry liquor  1000 non-null   object \n",
            " 10  smurfin donuts     1000 non-null   object \n",
            " 11  vitamin D          1000 non-null   float64\n",
            " 12  weight             1000 non-null   float64\n",
            " 13  img_filename       1000 non-null   object \n",
            "dtypes: float64(8), int64(1), object(5)\n",
            "memory usage: 109.5+ KB\n",
            "None\n",
            "<class 'pandas.core.frame.DataFrame'>\n",
            "RangeIndex: 1000 entries, 0 to 999\n",
            "Data columns (total 1 columns):\n",
            " #   Column              Non-Null Count  Dtype  \n",
            "---  ------              --------------  -----  \n",
            " 0   heart_failure_risk  1000 non-null   float64\n",
            "dtypes: float64(1)\n",
            "memory usage: 7.9 KB\n",
            "None\n"
          ]
        }
      ],
      "source": [
        "X_train = pd.read_csv('data/data_labeled/X_train.csv')\n",
        "X_test = pd.read_csv('data/data_labeled/X_test.csv')\n",
        "\n",
        "# y CSV files don't have headers, so we need to specify header=None and provide column names\n",
        "y_train = pd.read_csv('data/data_labeled/y_train.csv', header=None, names=['heart_failure_risk'])\n",
        "y_test = pd.read_csv('data/data_labeled/y_test.csv', header=None, names=['heart_failure_risk'])\n",
        "\n",
        "# Explore the data\n",
        "print(X_train.info())\n",
        "print(y_train.info())"
      ]
    },
    {
      "cell_type": "markdown",
      "metadata": {},
      "source": [
        "### delete missing values"
      ]
    },
    {
      "cell_type": "code",
      "execution_count": 11,
      "metadata": {},
      "outputs": [
        {
          "name": "stdout",
          "output_type": "stream",
          "text": [
            "1000\n"
          ]
        }
      ],
      "source": [
        "X_train = X_train.dropna()\n",
        "\n",
        "# print length of X_train\n",
        "print(len(X_train))\n"
      ]
    },
    {
      "cell_type": "markdown",
      "metadata": {},
      "source": [
        "There doesn't seem to be any missing values in the data"
      ]
    },
    {
      "cell_type": "code",
      "execution_count": 12,
      "metadata": {},
      "outputs": [
        {
          "name": "stdout",
          "output_type": "stream",
          "text": [
            "1000\n"
          ]
        }
      ],
      "source": [
        "# delete missing values in y_train\n",
        "y_train = y_train.dropna()\n",
        "\n",
        "# print length of y_train\n",
        "print(len(y_train))"
      ]
    },
    {
      "cell_type": "markdown",
      "metadata": {},
      "source": [
        "There doesn't seem to be any missing values in the data"
      ]
    },
    {
      "cell_type": "markdown",
      "metadata": {},
      "source": [
        "### We can drop the img_filename column"
      ]
    },
    {
      "cell_type": "code",
      "execution_count": 13,
      "metadata": {},
      "outputs": [],
      "source": [
        "X_train = X_train.drop(columns=['img_filename'])\n",
        "X_test = X_test.drop(columns=['img_filename'])\n"
      ]
    },
    {
      "cell_type": "markdown",
      "metadata": {},
      "source": [
        "### print all the possible values for the object columns\n"
      ]
    },
    {
      "cell_type": "code",
      "execution_count": 14,
      "metadata": {},
      "outputs": [
        {
          "name": "stdout",
          "output_type": "stream",
          "text": [
            "['food production' 'services' 'manufacturing' 'craftsmanship'\n",
            " 'administration and governance' 'resource extraction']\n",
            "['High' 'Moderate' 'Very low' 'Low' 'Very high']\n",
            "['High' 'Moderate' 'Very high' 'Low' 'Very low']\n",
            "['Very high' 'Very low' 'High' 'Low' 'Moderate']\n"
          ]
        }
      ],
      "source": [
        "print(X_train['profession'].unique())\n",
        "print(X_train['sarsaparilla'].unique())\n",
        "print(X_train['smurfberry liquor'].unique())\n",
        "print(X_train['smurfin donuts'].unique())\n"
      ]
    },
    {
      "cell_type": "markdown",
      "metadata": {},
      "source": [
        "### Transform profession column into a single column for each different profession with binary encoding\n"
      ]
    },
    {
      "cell_type": "code",
      "execution_count": 15,
      "metadata": {},
      "outputs": [
        {
          "name": "stdout",
          "output_type": "stream",
          "text": [
            "<class 'pandas.core.frame.DataFrame'>\n",
            "RangeIndex: 1000 entries, 0 to 999\n",
            "Data columns (total 18 columns):\n",
            " #   Column                                    Non-Null Count  Dtype  \n",
            "---  ------                                    --------------  -----  \n",
            " 0   age                                       1000 non-null   int64  \n",
            " 1   blood pressure                            1000 non-null   float64\n",
            " 2   calcium                                   1000 non-null   float64\n",
            " 3   cholesterol                               1000 non-null   float64\n",
            " 4   hemoglobin                                1000 non-null   float64\n",
            " 5   height                                    1000 non-null   float64\n",
            " 6   potassium                                 1000 non-null   float64\n",
            " 7   sarsaparilla                              1000 non-null   object \n",
            " 8   smurfberry liquor                         1000 non-null   object \n",
            " 9   smurfin donuts                            1000 non-null   object \n",
            " 10  vitamin D                                 1000 non-null   float64\n",
            " 11  weight                                    1000 non-null   float64\n",
            " 12  profession_administration and governance  1000 non-null   bool   \n",
            " 13  profession_craftsmanship                  1000 non-null   bool   \n",
            " 14  profession_food production                1000 non-null   bool   \n",
            " 15  profession_manufacturing                  1000 non-null   bool   \n",
            " 16  profession_resource extraction            1000 non-null   bool   \n",
            " 17  profession_services                       1000 non-null   bool   \n",
            "dtypes: bool(6), float64(8), int64(1), object(3)\n",
            "memory usage: 99.7+ KB\n",
            "None\n",
            "<class 'pandas.core.frame.DataFrame'>\n",
            "RangeIndex: 500 entries, 0 to 499\n",
            "Data columns (total 18 columns):\n",
            " #   Column                                    Non-Null Count  Dtype  \n",
            "---  ------                                    --------------  -----  \n",
            " 0   age                                       500 non-null    int64  \n",
            " 1   blood pressure                            500 non-null    float64\n",
            " 2   calcium                                   500 non-null    float64\n",
            " 3   cholesterol                               500 non-null    float64\n",
            " 4   hemoglobin                                500 non-null    float64\n",
            " 5   height                                    500 non-null    float64\n",
            " 6   potassium                                 500 non-null    float64\n",
            " 7   sarsaparilla                              500 non-null    object \n",
            " 8   smurfberry liquor                         500 non-null    object \n",
            " 9   smurfin donuts                            500 non-null    object \n",
            " 10  vitamin D                                 500 non-null    float64\n",
            " 11  weight                                    500 non-null    float64\n",
            " 12  profession_administration and governance  500 non-null    bool   \n",
            " 13  profession_craftsmanship                  500 non-null    bool   \n",
            " 14  profession_food production                500 non-null    bool   \n",
            " 15  profession_manufacturing                  500 non-null    bool   \n",
            " 16  profession_resource extraction            500 non-null    bool   \n",
            " 17  profession_services                       500 non-null    bool   \n",
            "dtypes: bool(6), float64(8), int64(1), object(3)\n",
            "memory usage: 49.9+ KB\n",
            "None\n"
          ]
        }
      ],
      "source": [
        "X_train = pd.get_dummies(X_train, columns=['profession'])\n",
        "X_test = pd.get_dummies(X_test, columns=['profession'])\n",
        "\n",
        "print(X_train.info())\n",
        "print(X_test.info())"
      ]
    },
    {
      "cell_type": "markdown",
      "metadata": {},
      "source": [
        "### Map the columns sarsaparilla, smurfberry liquor, and smurfin donuts to values 0, 1, 2, 3, 4"
      ]
    },
    {
      "cell_type": "code",
      "execution_count": 16,
      "metadata": {},
      "outputs": [
        {
          "name": "stdout",
          "output_type": "stream",
          "text": [
            "<class 'pandas.core.frame.DataFrame'>\n",
            "RangeIndex: 1000 entries, 0 to 999\n",
            "Data columns (total 18 columns):\n",
            " #   Column                                    Non-Null Count  Dtype  \n",
            "---  ------                                    --------------  -----  \n",
            " 0   age                                       1000 non-null   int64  \n",
            " 1   blood pressure                            1000 non-null   float64\n",
            " 2   calcium                                   1000 non-null   float64\n",
            " 3   cholesterol                               1000 non-null   float64\n",
            " 4   hemoglobin                                1000 non-null   float64\n",
            " 5   height                                    1000 non-null   float64\n",
            " 6   potassium                                 1000 non-null   float64\n",
            " 7   sarsaparilla                              1000 non-null   int64  \n",
            " 8   smurfberry liquor                         1000 non-null   int64  \n",
            " 9   smurfin donuts                            1000 non-null   int64  \n",
            " 10  vitamin D                                 1000 non-null   float64\n",
            " 11  weight                                    1000 non-null   float64\n",
            " 12  profession_administration and governance  1000 non-null   bool   \n",
            " 13  profession_craftsmanship                  1000 non-null   bool   \n",
            " 14  profession_food production                1000 non-null   bool   \n",
            " 15  profession_manufacturing                  1000 non-null   bool   \n",
            " 16  profession_resource extraction            1000 non-null   bool   \n",
            " 17  profession_services                       1000 non-null   bool   \n",
            "dtypes: bool(6), float64(8), int64(4)\n",
            "memory usage: 99.7 KB\n",
            "None\n"
          ]
        }
      ],
      "source": [
        "# Strip whitespace from the three columns\n",
        "X_train['sarsaparilla'] = X_train['sarsaparilla'].str.strip()\n",
        "X_test['sarsaparilla'] = X_test['sarsaparilla'].str.strip()\n",
        "X_train['smurfberry liquor'] = X_train['smurfberry liquor'].str.strip()\n",
        "X_test['smurfberry liquor'] = X_test['smurfberry liquor'].str.strip()\n",
        "X_train['smurfin donuts'] = X_train['smurfin donuts'].str.strip()\n",
        "X_test['smurfin donuts'] = X_test['smurfin donuts'].str.strip()\n",
        "\n",
        "\n",
        "X_train['sarsaparilla'] = X_train['sarsaparilla'].map({'Very high': 4, 'High': 3, 'Moderate': 2, 'Low': 1, 'Very low': 0})\n",
        "X_test['sarsaparilla'] = X_test['sarsaparilla'].map({'Very high': 4, 'High': 3, 'Moderate': 2, 'Low': 1, 'Very low': 0})\n",
        "X_train['smurfberry liquor'] = X_train['smurfberry liquor'].map({'Very high': 4, 'High': 3, 'Moderate': 2, 'Low': 1, 'Very low': 0})\n",
        "X_test['smurfberry liquor'] = X_test['smurfberry liquor'].map({'Very high': 4, 'High': 3, 'Moderate': 2, 'Low': 1, 'Very low': 0})\n",
        "X_train['smurfin donuts'] = X_train['smurfin donuts'].map({'Very high': 4, 'High': 3, 'Moderate': 2, 'Low': 1, 'Very low': 0})\n",
        "X_test['smurfin donuts'] = X_test['smurfin donuts'].map({'Very high': 4, 'High': 3, 'Moderate': 2, 'Low': 1, 'Very low': 0})\n",
        "\n",
        "print(X_train.info())"
      ]
    },
    {
      "cell_type": "markdown",
      "metadata": {},
      "source": [
        "### Standardization"
      ]
    },
    {
      "cell_type": "code",
      "execution_count": 17,
      "metadata": {},
      "outputs": [],
      "source": [
        "# Standardize predictor variables\n",
        "scX = StandardScaler()\n",
        "scX.fit(X_train)\n",
        "X_train = pd.DataFrame(scX.transform(X_train), columns=X_train.columns)\n",
        "X_test = pd.DataFrame(scX.transform(X_test), columns=X_test.columns)\n",
        "\n",
        "# Here we choose to standardize the target as well (not always useful)\n",
        "scy = StandardScaler()\n",
        "scy.fit(y_train)\n",
        "y_train = pd.DataFrame(scy.transform(y_train), columns=y_train.columns)\n",
        "y_test = pd.DataFrame(scy.transform(y_test), columns=y_test.columns)"
      ]
    },
    {
      "cell_type": "markdown",
      "metadata": {},
      "source": [
        "---\n",
        "## Part 2: Feature Selection\n",
        "\n",
        "Since we still don't know which model we'll use, we'll stick to simple filter methods and won't do wrapper methods. Given that for the first part of this project, we'll use a linear model, embedded methods do not seem an option.\n",
        "\n",
        "For the choice between correlation filter and mutual information filter, correlation seems a better choice. Mutual information captures non-linear relationships between features and the target, while linear models can only exploit linear relationships. Since we're using a linear model, we should focus on linear correlation between features and the target.\n",
        "\n",
        "The filter that we will implement will select the top K most relevant features according to the correlation criterion (maximum relevance). However, within the selected subset, some features may be redundant, e.g., if they are highly correlated with one another. In this case, we may want to discard one of the redundant features. This follows the 'maximum relevance-minimum redundancy' principle.\n",
        "\n",
        "The implementation will proceed in two steps:\n",
        "1. **Correlation filter**: Compute the correlation between each feature and the target variable, then select the top K most correlated features.\n",
        "2. **Redundancy removal**: Examine the correlation matrix (via heatmap) of the selected features and manually remove features that are highly correlated with each other, keeping only the most relevant one from each redundant pair."
      ]
    },
    {
      "cell_type": "markdown",
      "metadata": {},
      "source": [
        "### Correlation filter\n",
        "Usually a model performs better when having more inputs, so I'll just discard the columns under a certain treshold instead of selecting top K features."
      ]
    },
    {
      "cell_type": "markdown",
      "metadata": {},
      "source": [
        "**Threshold choice: 0.2**\n",
        "\n",
        "We select features with |correlation| ≥ 0.2, keeping 7 features (`blood pressure`, `cholesterol`, `weight`, `smurfin donuts`, `profession_administration and governance`, `age`, `sarsaparilla`) that show meaningful linear relationships with the target. This balances signal retention while filtering weak correlations (< 0.2) that would add noise without improving predictive power."
      ]
    },
    {
      "cell_type": "code",
      "execution_count": 20,
      "metadata": {},
      "outputs": [
        {
          "name": "stdout",
          "output_type": "stream",
          "text": [
            "age: 0.221\n",
            "  -> selected\n",
            "blood pressure: 0.659\n",
            "  -> selected\n",
            "calcium: 0.015\n",
            "cholesterol: 0.449\n",
            "  -> selected\n",
            "hemoglobin: 0.161\n",
            "height: 0.111\n",
            "potassium: 0.035\n",
            "sarsaparilla: 0.200\n",
            "  -> selected\n",
            "smurfberry liquor: 0.076\n",
            "smurfin donuts: 0.314\n",
            "  -> selected\n",
            "vitamin D: 0.018\n",
            "weight: 0.418\n",
            "  -> selected\n",
            "profession_administration and governance: 0.239\n",
            "  -> selected\n",
            "profession_craftsmanship: 0.003\n",
            "profession_food production: 0.164\n",
            "profession_manufacturing: 0.004\n",
            "profession_resource extraction: 0.114\n",
            "profession_services: 0.140\n"
          ]
        }
      ],
      "source": [
        "# correlation between each feature and the target\n",
        "corr = X_train.corrwith(y_train[\"heart_failure_risk\"])\n",
        "\n",
        "# Sort correlations by absolute value\n",
        "top_features = corr.abs()\n",
        "\n",
        "selected_features = []\n",
        "\n",
        "treshold = 0.2\n",
        "\n",
        "for feature, correlation in top_features.items():\n",
        "    print(f\"{feature}: {abs(correlation):.3f}\")\n",
        "    if correlation >= treshold:\n",
        "        print(f\"  -> selected\")\n",
        "        selected_features.append(feature)"
      ]
    },
    {
      "cell_type": "markdown",
      "metadata": {},
      "source": [
        "### Heatmap"
      ]
    },
    {
      "cell_type": "code",
      "execution_count": 21,
      "metadata": {},
      "outputs": [
        {
          "data": {
            "image/png": "[encoded data removed]",
            "text/plain": [
              "<Figure size 1000x800 with 2 Axes>"
            ]
          },
          "metadata": {},
          "output_type": "display_data"
        }
      ],
      "source": [
        "# Plot heatmap\n",
        "plt.figure(figsize=(10, 8))\n",
        "sns.heatmap(X_train[selected_features].corr(), annot=True, fmt=\".2f\", cmap=\"coolwarm\")\n",
        "plt.title(\"Heatmap of Pairwise Feature Correlations\")\n",
        "plt.show()"
      ]
    },
    {
      "cell_type": "markdown",
      "metadata": {},
      "source": [
        "Redundancy threshold: features with correlation > 0.7–0.8 are likely redundant; correlations around 0.4–0.6 indicate related but distinct features. We keep `cholesterol` & `blood pressure` (0.48), `weight` & `blood pressure` (0.43), and `sarsaparilla` & `smurfin donuts` (-0.32), as they capture complementary information. The `weight` & `smurfin donuts` pair (0.64) is borderline, but we still keep the 2."
      ]
    },
    {
      "cell_type": "markdown",
      "metadata": {},
      "source": [
        "---"
      ]
    },
    {
      "cell_type": "markdown",
      "metadata": {},
      "source": [
        "## Part 3 : Linear Regression"
      ]
    },
    {
      "cell_type": "markdown",
      "metadata": {},
      "source": [
        "With 1000 samples and 7 features, `X^T X` is a 7×7 matrix that is invertible (unless there is perfect multicollinearity), making the normal equation method computationally feasible and numerically stable. This is why we use `LinearRegression` (OLS) rather than Ridge/Lasso, since the small feature count relative to sample size avoids the numerical issues that regularization addresses."
      ]
    },
    {
      "cell_type": "markdown",
      "metadata": {},
      "source": [
        "### Evaluation Metric\n",
        "In order to perform model selection, some metric(s) should be used in order to rank the performance\n",
        "of the competing models. We will be using the RMSE criterion."
      ]
    },
    {
      "cell_type": "code",
      "execution_count": 22,
      "metadata": {},
      "outputs": [],
      "source": [
        "# Compute the Root Mean Square Error\n",
        "def compute_rmse(predict, target):\n",
        "\n",
        "    len_predict = len(predict)\n",
        "    len_target = len(target)\n",
        "    \n",
        "    if len_predict != len_target:\n",
        "        raise ValueError(\"predict and target must have the same length\")\n",
        "    \n",
        "    rmse = np.sqrt(np.mean((predict - target) ** 2))\n",
        "    \n",
        "    \n",
        "    return rmse"
      ]
    },
    {
      "cell_type": "markdown",
      "metadata": {},
      "source": [
        "### Fitting and testing the model"
      ]
    },
    {
      "cell_type": "code",
      "execution_count": 25,
      "metadata": {},
      "outputs": [
        {
          "name": "stdout",
          "output_type": "stream",
          "text": [
            "Model coefficients:\n",
            "  age: 0.1327\n",
            "  blood pressure: 0.5053\n",
            "  cholesterol: 0.1264\n",
            "  sarsaparilla: -0.1259\n",
            "  smurfin donuts: -0.0012\n",
            "  weight: 0.1222\n",
            "  profession_administration and governance: 0.0594\n",
            "\n",
            "Intercept: -0.0000\n",
            "\n",
            "==================================================\n",
            "MODEL PERFORMANCE\n",
            "==================================================\n",
            "\n",
            "Training Set:\n",
            "  RMSE: 0.7007\n",
            "\n",
            "Test Set:\n",
            "  RMSE: 0.7245\n"
          ]
        }
      ],
      "source": [
        "X_train_selected = X_train[selected_features]\n",
        "X_test_selected = X_test[selected_features]\n",
        "\n",
        "# Initialize and fit the model\n",
        "model = LinearRegression()\n",
        "model.fit(X_train_selected, y_train.values.ravel())\n",
        "\n",
        "print(\"Model coefficients:\")\n",
        "for feature, coef in zip(selected_features, model.coef_):\n",
        "    print(f\"  {feature}: {coef:.4f}\")\n",
        "print(f\"\\nIntercept: {model.intercept_:.4f}\")\n",
        "\n",
        "# Predictions\n",
        "y_pred_train = model.predict(X_train_selected)\n",
        "y_pred_test = model.predict(X_test_selected)\n",
        "\n",
        "# Calculate metrics\n",
        "train_rmse = compute_rmse(y_pred_train, y_train.values.ravel())\n",
        "test_rmse = compute_rmse(y_pred_test, y_test.values.ravel())\n",
        "\n",
        "print(\"\\n\" + \"=\"*50)\n",
        "print(\"MODEL PERFORMANCE\")\n",
        "print(\"=\"*50)\n",
        "print(f\"\\nTraining Set:\")\n",
        "print(f\"  RMSE: {train_rmse:.4f}\")\n",
        "print(f\"\\nTest Set:\")\n",
        "print(f\"  RMSE: {test_rmse:.4f}\")\n",
        "\n",
        "# Visualization (same as before)\n",
        "# fig, axes = plt.subplots(1, 2, figsize=(14, 5))\n",
        "\n",
        "# axes[0].scatter(y_train.values.ravel(), y_pred_train, alpha=0.5, s=30)\n",
        "# axes[0].plot([y_train.values.ravel().min(), y_train.values.ravel().max()], \n",
        "#              [y_train.values.ravel().min(), y_train.values.ravel().max()], \n",
        "#              'r--', lw=2, label='Perfect prediction')\n",
        "# axes[0].set_xlabel('Actual Values', fontsize=12)\n",
        "# axes[0].set_ylabel('Predicted Values', fontsize=12)\n",
        "# axes[0].set_title(f'Training Set: Predictions vs Actual\\nRMSE = {train_rmse:.4f}, R² = {train_r2:.4f}', fontsize=12)\n",
        "# axes[0].legend()\n",
        "# axes[0].grid(True, alpha=0.3)\n",
        "\n",
        "# axes[1].scatter(y_test.values.ravel(), y_pred_test, alpha=0.5, s=30, color='orange')\n",
        "# axes[1].plot([y_test.values.ravel().min(), y_test.values.ravel().max()], \n",
        "#              [y_test.values.ravel().min(), y_test.values.ravel().max()], \n",
        "#              'r--', lw=2, label='Perfect prediction')\n",
        "# axes[1].set_xlabel('Actual Values', fontsize=12)\n",
        "# axes[1].set_ylabel('Predicted Values', fontsize=12)\n",
        "# axes[1].set_title(f'Test Set: Predictions vs Actual\\nRMSE = {test_rmse:.4f}, R² = {test_r2:.4f}', fontsize=12)\n",
        "# axes[1].legend()\n",
        "# axes[1].grid(True, alpha=0.3)\n",
        "\n",
        "# plt.tight_layout()\n",
        "# plt.show()"
      ]
    },
    {
      "cell_type": "markdown",
      "metadata": {},
      "source": [
        "**Interpretation** :\n",
        "The linear regression model generalizes well, with a test RMSE of 0.7245, only slightly higher than the training RMSE (0.7007), indicating minimal overfitting. `blood pressure` is the strongest predictor (coefficient 0.5053), followed by `age`, `cholesterol`, and `weight`; `sarsaparilla` shows a protective effect, while `smurfin donuts` has negligible impact. Overall, the model captures meaningful linear relationships between the selected features and heart failure risk, with reasonable predictive accuracy on standardized data.\n",
        "\n",
        "Why coefficients can differ from correlations: Correlation measures each feature’s relationship with the target in isolation, while regression coefficients measure each feature’s effect while controlling for all other features. When features are correlated (multicollinearity), they share predictive information, so a feature with a higher univariate correlation can have a smaller coefficient if its effect overlaps with other features (e.g., `weight` overlapping with `blood pressure`). Conversely, a feature with lower correlation can have a larger coefficient if it provides unique information not captured by others, as coefficients reflect each feature’s distinct contribution in the full model.\n",
        "\n",
        "\n",
        "\n"
      ]
    },
    {
      "cell_type": "markdown",
      "metadata": {},
      "source": [
        "---"
      ]
    },
    {
      "cell_type": "markdown",
      "metadata": {},
      "source": [
        "## Part 4 : Model selection"
      ]
    },
    {
      "cell_type": "markdown",
      "metadata": {},
      "source": [
        "This is more relevant for deep networks, but not linear regression, so we won't need this for part 1"
      ]
    }
  ],
  "metadata": {
    "kernelspec": {
      "display_name": ".venv",
      "language": "python",
      "name": "python3"
    },
    "language_info": {
      "codemirror_mode": {
        "name": "ipython",
        "version": 3
      },
      "file_extension": ".py",
      "mimetype": "text/x-python",
      "name": "python",
      "nbconvert_exporter": "python",
      "pygments_lexer": "ipython3",
      "version": "3.11.3"
    }
  },
  "nbformat": 4,
  "nbformat_minor": 2
}
